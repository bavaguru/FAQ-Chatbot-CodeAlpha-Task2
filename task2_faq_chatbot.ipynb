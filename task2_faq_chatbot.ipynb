{
  "nbformat": 4,
  "nbformat_minor": 0,
  "metadata": {
    "colab": {
      "provenance": []
    },
    "kernelspec": {
      "name": "python3",
      "display_name": "Python 3"
    },
    "language_info": {
      "name": "python"
    }
  },
  "cells": [
    {
      "cell_type": "code",
      "source": [
        "import nltk\n",
        "nltk.download('punkt')\n",
        "nltk.download('stopwords')\n"
      ],
      "metadata": {
        "colab": {
          "base_uri": "https://localhost:8080/"
        },
        "id": "UmQMP8Vxe0ZJ",
        "outputId": "814debc9-f660-437b-9136-be97cd896d36"
      },
      "execution_count": 3,
      "outputs": [
        {
          "output_type": "stream",
          "name": "stderr",
          "text": [
            "[nltk_data] Downloading package punkt to /root/nltk_data...\n",
            "[nltk_data]   Package punkt is already up-to-date!\n",
            "[nltk_data] Downloading package stopwords to /root/nltk_data...\n",
            "[nltk_data]   Package stopwords is already up-to-date!\n"
          ]
        },
        {
          "output_type": "execute_result",
          "data": {
            "text/plain": [
              "True"
            ]
          },
          "metadata": {},
          "execution_count": 3
        }
      ]
    },
    {
      "cell_type": "code",
      "source": [
        "# ✅ Task 2: Chatbot for FAQs (Improved & Interactive)\n",
        "\n",
        "# Install Required Libraries (Colab only)\n",
        "!pip install nltk scikit-learn\n",
        "\n",
        "# Import Libraries\n",
        "import nltk\n",
        "import numpy as np\n",
        "from nltk.tokenize import word_tokenize\n",
        "from nltk.corpus import stopwords\n",
        "from sklearn.feature_extraction.text import TfidfVectorizer\n",
        "from sklearn.metrics.pairwise import cosine_similarity\n",
        "\n",
        "# Prepare FAQ Data\n",
        "faq_data = {\n",
        "    \"What is your name?\": \"I am an AI chatbot created to assist you.\",\n",
        "    \"How can I reset my password?\": \"Click on 'Forgot Password' at the login screen and follow the instructions.\",\n",
        "    \"What services do you offer?\": \"We offer AI development, data analysis, and ML solutions.\",\n",
        "    \"How can I contact support?\": \"You can email support@example.com for help.\",\n",
        "    \"Where are you located?\": \"We are based in Chennai, India.\"\n",
        "}\n",
        "\n",
        "questions = list(faq_data.keys())\n",
        "answers = list(faq_data.values())\n",
        "\n",
        "# Preprocess and Vectorize Questions\n",
        "stop_words = set(stopwords.words('english'))\n",
        "\n",
        "def preprocess(text):\n",
        "    tokens = word_tokenize(text.lower())\n",
        "    filtered = [word for word in tokens if word.isalnum() and word not in stop_words]\n",
        "    return \" \".join(filtered)\n",
        "\n",
        "preprocessed_questions = [preprocess(q) for q in questions]\n",
        "\n",
        "vectorizer = TfidfVectorizer()\n",
        "tfidf_matrix = vectorizer.fit_transform(preprocessed_questions)\n",
        "\n",
        "# Improved Response Function with Threshold\n",
        "def get_response(user_input, threshold=0.3):\n",
        "    user_input_processed = preprocess(user_input)\n",
        "    user_vector = vectorizer.transform([user_input_processed])\n",
        "    similarity = cosine_similarity(user_vector, tfidf_matrix)\n",
        "\n",
        "    max_sim = np.max(similarity)\n",
        "    index = np.argmax(similarity)\n",
        "\n",
        "    if max_sim < threshold:\n",
        "        return \"I'm sorry, I don't understand that. Can you try asking differently?\"\n",
        "    else:\n",
        "        return answers[index]\n",
        "\n",
        "# Chatbot Loop\n",
        "print(\"Chatbot is ready! Type 'bye' to exit.\")\n",
        "while True:\n",
        "    user_question = input(\"You: \")\n",
        "    if user_question.lower() in [\"bye\", \"exit\", \"quit\"]:\n",
        "        print(\"Chatbot: Goodbye! 👋\")\n",
        "        break\n",
        "    print(\"Chatbot:\", get_response(user_question))\n"
      ],
      "metadata": {
        "colab": {
          "base_uri": "https://localhost:8080/"
        },
        "id": "4RJz5ZddfITf",
        "outputId": "f2d87d43-b649-41a2-ef1c-50a45896171b"
      },
      "execution_count": 4,
      "outputs": [
        {
          "output_type": "stream",
          "name": "stdout",
          "text": [
            "Requirement already satisfied: nltk in /usr/local/lib/python3.11/dist-packages (3.9.1)\n",
            "Requirement already satisfied: scikit-learn in /usr/local/lib/python3.11/dist-packages (1.6.1)\n",
            "Requirement already satisfied: click in /usr/local/lib/python3.11/dist-packages (from nltk) (8.2.1)\n",
            "Requirement already satisfied: joblib in /usr/local/lib/python3.11/dist-packages (from nltk) (1.5.1)\n",
            "Requirement already satisfied: regex>=2021.8.3 in /usr/local/lib/python3.11/dist-packages (from nltk) (2024.11.6)\n",
            "Requirement already satisfied: tqdm in /usr/local/lib/python3.11/dist-packages (from nltk) (4.67.1)\n",
            "Requirement already satisfied: numpy>=1.19.5 in /usr/local/lib/python3.11/dist-packages (from scikit-learn) (2.0.2)\n",
            "Requirement already satisfied: scipy>=1.6.0 in /usr/local/lib/python3.11/dist-packages (from scikit-learn) (1.16.1)\n",
            "Requirement already satisfied: threadpoolctl>=3.1.0 in /usr/local/lib/python3.11/dist-packages (from scikit-learn) (3.6.0)\n",
            "Chatbot is ready! Type 'bye' to exit.\n",
            "You: What services do you offer?\n",
            "Chatbot: We offer AI development, data analysis, and ML solutions.\n",
            "You: How to reset password?\n",
            "Chatbot: Click on 'Forgot Password' at the login screen and follow the instructions.\n",
            "You: ok bye\n",
            "Chatbot: I'm sorry, I don't understand that. Can you try asking differently?\n",
            "You: bye\n",
            "Chatbot: Goodbye! 👋\n"
          ]
        }
      ]
    }
  ]
}